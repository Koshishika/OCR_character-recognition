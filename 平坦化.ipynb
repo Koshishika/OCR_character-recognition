{
 "cells": [
  {
   "cell_type": "markdown",
   "id": "7fbf1517-21bc-43bf-be34-c827439af2d9",
   "metadata": {},
   "source": [
    "# 縦方向のラインプロファイルによる垂直方向の平坦化"
   ]
  },
  {
   "cell_type": "markdown",
   "id": "80cef3aa-f527-46f5-b80e-2a9abb206990",
   "metadata": {},
   "source": [
    "- x方向の位置は画像ごとに適当に指定\n",
    "- 縦一列について、左右5画素の平均\n",
    "- 係数をかけて0-255に正規化"
   ]
  },
  {
   "cell_type": "code",
   "execution_count": null,
   "id": "e5f314d3-b234-43fb-9814-2534384f7878",
   "metadata": {},
   "outputs": [],
   "source": [
    "from pathlib import Path\n",
    "\n",
    "import cv2\n",
    "from japanize_matplotlib import japanize\n",
    "from matplotlib import pyplot as plt\n",
    "import numpy as np\n",
    "import seaborn as sns\n",
    "\n",
    "%matplotlib inline\n",
    "sns.set()\n",
    "sns.set_style('whitegrid')\n",
    "japanize()"
   ]
  },
  {
   "cell_type": "code",
   "execution_count": null,
   "id": "55e9d94a-7e66-4143-86cc-8affdf99a341",
   "metadata": {},
   "outputs": [],
   "source": [
    "path_here = Path().cwd()\n",
    "print(path_here)"
   ]
  },
  {
   "cell_type": "code",
   "execution_count": null,
   "id": "39f6ad47-c93a-4e3f-b800-de2ec9eb5654",
   "metadata": {
    "tags": []
   },
   "outputs": [],
   "source": [
    "org_fig_dir = path_here/'07_output'\n",
    "for file in org_fig_dir.glob('tire_*.png'):\n",
    "    print(file)"
   ]
  },
  {
   "cell_type": "code",
   "execution_count": null,
   "id": "36aa2964-3694-46c8-a965-509dc856d876",
   "metadata": {
    "tags": []
   },
   "outputs": [],
   "source": [
    "embossed_fig_dir = path_here/'12_output'\n",
    "for file in embossed_fig_dir.glob('tire_*.png'):\n",
    "    print(file)"
   ]
  },
  {
   "cell_type": "code",
   "execution_count": null,
   "id": "dc50df8a-ace8-4777-9b0b-a76b21ee3d11",
   "metadata": {},
   "outputs": [],
   "source": [
    "output_root = path_here/'13_output'\n",
    "output_root.mkdir(parents=True, exist_ok=True)\n",
    "print(output_root)"
   ]
  },
  {
   "cell_type": "markdown",
   "id": "877fe3a6-09a8-4da2-8898-dc85c1e8bba2",
   "metadata": {},
   "source": [
    "- xで指定した横方向の位置について、タイヤの断面を測り、左右2pxの計5pxの平均を取得\n",
    "- 全体の平均(mean)とvert_profileから行単位で平坦化"
   ]
  },
  {
   "cell_type": "code",
   "execution_count": null,
   "id": "117c10d6-8e24-41b2-a892-7886f03503e2",
   "metadata": {},
   "outputs": [],
   "source": [
    "def correction_line_level(img, x):\n",
    "    vert_profile = [None for i in range(img.shape[0])]\n",
    "    for row in range(img.shape[0]):\n",
    "        v = 0\n",
    "        for i in range(-2, 3, 1):\n",
    "            v += img[row][x+i][0]\n",
    "        v /= 5\n",
    "        vert_profile[row] = v\n",
    "    min_profile = min(vert_profile)\n",
    "    max_profile = max(vert_profile)\n",
    "    mean = (min_profile + max_profile) / 2\n",
    "    for row in range(img.shape[0]):\n",
    "        coef = mean / vert_profile[row] if vert_profile[row] > 0 else 0\n",
    "        for col in range(img.shape[1]):\n",
    "            px_tmp = img[row, col] * coef\n",
    "            for i in range(3):\n",
    "                px_tmp[i] = min(255, px_tmp[i])\n",
    "            img[row, col] = px_tmp\n",
    "    return img\n",
    "    "
   ]
  },
  {
   "cell_type": "markdown",
   "id": "19c85832-4eec-4bf4-b6c5-c6badd575053",
   "metadata": {},
   "source": [
    "## 平坦化して保存(最後に正規化が必要だが未実施)"
   ]
  },
  {
   "cell_type": "markdown",
   "id": "177a8aa0-03e5-4b91-9c8d-951cceee37a3",
   "metadata": {},
   "source": [
    "- 元画像を平坦化\n",
    "- エンボス画像と各px比較して暗い方を採用"
   ]
  },
  {
   "cell_type": "code",
   "execution_count": null,
   "id": "07511917-6b97-4820-b9d5-05a9c6eb5525",
   "metadata": {},
   "outputs": [],
   "source": [
    "for org_file in org_fig_dir.glob('tire_*.png'):\n",
    "    print(org_file)\n",
    "    org_img = cv2.imread(str(org_file))\n",
    "    # print(org_img.shape)\n",
    "    \n",
    "    # fig = plt.figure(figsize=(60, 40))\n",
    "    # plt.imshow(org_img)\n",
    "    # plt.show()\n",
    "    # plt.close()\n",
    "    \n",
    "    x = org_img.shape[1] // 2\n",
    "    new_img = correction_line_level(org_img, x)\n",
    "    \n",
    "    # fig = plt.figure(figsize=(60, 40))\n",
    "    # plt.imshow(new_img)\n",
    "    # plt.show()\n",
    "    # plt.close()\n",
    "    \n",
    "    for embossed_file in embossed_fig_dir.glob('tire_*.png'):\n",
    "        if org_file.stem in str(embossed_file):\n",
    "            break\n",
    "    print(embossed_file)\n",
    "    embossed_img = cv2.imread(str(embossed_file))\n",
    "    # print(embossed_img.shape)\n",
    "\n",
    "    # fig = plt.figure(figsize=(60, 40))\n",
    "    # plt.imshow(embossed_img)\n",
    "    # plt.show()\n",
    "    # plt.close()\n",
    "\n",
    "    normalizes = [org_img, embossed_img]\n",
    "    arr_normalized = np.asarray(normalizes)\n",
    "    normalized_max = arr_normalized.min(axis=0)\n",
    "\n",
    "    # fig = plt.figure(figsize=(60, 40))\n",
    "    # plt.imshow(normalized_max)\n",
    "    # plt.show()\n",
    "    # plt.close()\n",
    "\n",
    "    cv2.imwrite(str(output_root/f'{org_file.stem}.png'), normalized_max)\n",
    "    del normalized_max, normalizes, org_img, embossed_img, new_img\n",
    "    "
   ]
  }
 ],
 "metadata": {
  "kernelspec": {
   "display_name": "Python 3 (ipykernel)",
   "language": "python",
   "name": "python3"
  },
  "language_info": {
   "codemirror_mode": {
    "name": "ipython",
    "version": 3
   },
   "file_extension": ".py",
   "mimetype": "text/x-python",
   "name": "python",
   "nbconvert_exporter": "python",
   "pygments_lexer": "ipython3",
   "version": "3.9.9"
  }
 },
 "nbformat": 4,
 "nbformat_minor": 5
}
